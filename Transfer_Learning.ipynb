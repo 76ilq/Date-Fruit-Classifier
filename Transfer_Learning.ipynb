{
  "cells": [
    {
      "cell_type": "markdown",
      "metadata": {
        "id": "MjP_ZgeQZdKF"
      },
      "source": [
        "### CPCS 334 Project"
      ]
    },
    {
      "cell_type": "code",
      "source": [
        "print(\"ll\")"
      ],
      "metadata": {
        "id": "0dZ6lCT9ZfJS",
        "outputId": "4147c026-3ead-41d4-e374-423eed0ec53f",
        "colab": {
          "base_uri": "https://localhost:8080/"
        }
      },
      "execution_count": 2,
      "outputs": [
        {
          "output_type": "stream",
          "name": "stdout",
          "text": [
            "ll\n"
          ]
        }
      ]
    }
  ],
  "metadata": {
    "language_info": {
      "name": "python"
    },
    "colab": {
      "provenance": []
    },
    "kernelspec": {
      "name": "python3",
      "display_name": "Python 3"
    }
  },
  "nbformat": 4,
  "nbformat_minor": 0
}