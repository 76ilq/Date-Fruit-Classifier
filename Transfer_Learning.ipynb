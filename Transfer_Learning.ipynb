{
  "cells": [
    {
      "cell_type": "markdown",
      "metadata": {
        "id": "j7eI4OF9dKoD"
      },
      "source": [
        "### CPCS 334 Project"
      ]
    },
    {
      "cell_type": "code",
      "source": [
        "# Example of saving a file\n",
        "with open('output_file.txt', 'w') as f:\n",
        "    f.write('Your output content here.')"
      ],
      "metadata": {
        "id": "XdJpog5seQIX"
      },
      "execution_count": 1,
      "outputs": []
    },
    {
      "cell_type": "code",
      "source": [
        "# Install Git if not already installed\n",
        "!apt-get install git\n",
        "\n",
        "# Clone your repository (replace with your repository link)\n",
        "!git clone https://github.com/76ilq/Date-Fruit-Classifier.git\n",
        "\n",
        "# Navigate to the repository directory\n",
        "%cd Date-Fruit-Classifier\n"
      ],
      "metadata": {
        "id": "q2kkOQlcgSKn",
        "outputId": "71636420-7e64-4c9b-ebf4-599af8ac8b89",
        "colab": {
          "base_uri": "https://localhost:8080/"
        }
      },
      "execution_count": 2,
      "outputs": [
        {
          "output_type": "stream",
          "name": "stdout",
          "text": [
            "Reading package lists... Done\n",
            "Building dependency tree... Done\n",
            "Reading state information... Done\n",
            "git is already the newest version (1:2.34.1-1ubuntu1.11).\n",
            "0 upgraded, 0 newly installed, 0 to remove and 49 not upgraded.\n",
            "Cloning into 'Date-Fruit-Classifier'...\n",
            "fatal: could not read Username for 'https://github.com': No such device or address\n",
            "[Errno 2] No such file or directory: 'Date-Fruit-Classifier'\n",
            "/content\n"
          ]
        }
      ]
    },
    {
      "cell_type": "code",
      "source": [
        "# Example of saving an output file\n",
        "output_file = \"output_file.txt\"\n",
        "with open(output_file, 'w') as f:\n",
        "    f.write(\"This is an automated file save.\")\n",
        "\n",
        "print(f\"File saved: {output_file}\")\n"
      ],
      "metadata": {
        "id": "A8KwFHcDglsL",
        "outputId": "e5b04b61-f845-4c99-e6a8-e2aff9c3fe95",
        "colab": {
          "base_uri": "https://localhost:8080/"
        }
      },
      "execution_count": 3,
      "outputs": [
        {
          "output_type": "stream",
          "name": "stdout",
          "text": [
            "File saved: output_file.txt\n"
          ]
        }
      ]
    }
  ],
  "metadata": {
    "language_info": {
      "name": "python"
    },
    "colab": {
      "provenance": []
    },
    "kernelspec": {
      "name": "python3",
      "display_name": "Python 3"
    }
  },
  "nbformat": 4,
  "nbformat_minor": 0
}