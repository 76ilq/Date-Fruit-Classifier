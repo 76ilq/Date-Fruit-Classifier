{
  "cells": [
    {
      "cell_type": "markdown",
      "metadata": {
        "id": "view-in-github",
        "colab_type": "text"
      },
      "source": [
        "<a href=\"https://colab.research.google.com/github/76ilq/Date-Fruit-Classifier/blob/Transfer-Learning/Transfer_Learning.ipynb\" target=\"_parent\"><img src=\"https://colab.research.google.com/assets/colab-badge.svg\" alt=\"Open In Colab\"/></a>"
      ]
    },
    {
      "cell_type": "markdown",
      "metadata": {
        "id": "j7eI4OF9dKoD"
      },
      "source": [
        "### CPCS 334 Project"
      ]
    },
    {
      "cell_type": "code",
      "source": [
        "# Example of saving a file\n",
        "with open('output_file.txt', 'w') as f:\n",
        "    f.write('Your output content here.')"
      ],
      "metadata": {
        "id": "XdJpog5seQIX"
      },
      "execution_count": 1,
      "outputs": []
    }
  ],
  "metadata": {
    "language_info": {
      "name": "python"
    },
    "colab": {
      "provenance": [],
      "include_colab_link": true
    },
    "kernelspec": {
      "name": "python3",
      "display_name": "Python 3"
    }
  },
  "nbformat": 4,
  "nbformat_minor": 0
}